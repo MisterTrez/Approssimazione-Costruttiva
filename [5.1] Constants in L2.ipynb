{
 "cells": [
  {
   "cell_type": "markdown",
   "metadata": {},
   "source": [
    "# Approssimazione con $S^0 (\\Omega)$ in $L^2$\n",
    "### (E5.1)\n",
    "\n",
    "Dato $ \\Omega = [a,b)$, una partizione $ P = \\{ t_0 = a < t_1 < \\ldots < t_n = b \\} $ vogliamo approssimare una funzione $f \\in L^2(\\Omega)$ utilizzando funzioni costanti a tratti.\n",
    "Da E3.2 sappiamo che $$\\inf_{c \\in \\mathbb{R}} || f - c ||_{L^2(I)} = || f - (f)_I ||_{L^2(I)}$$\n",
    "dove $(f)_I = \\frac{1}{|I|} \\int_{\\Omega} f dx $ è la media integrale di $f$ su $I$.\n",
    "\n",
    "Notiamo subito che non è possibile calcolare esattamente $(f)_I$ utilizzando un computer, ma che, detta c il valore determinato numericamente con una formula di quadratura, per la disuguaglianza triangolare vale:\n",
    "$$ || f - c ||_{L^2(I)} \\leq || f - (f)_I ||_{L^2(I)} + || (f)_I - c ||_{L^2(I)} $$\n",
    "Inoltre:\n",
    "$$ || (f)_I - c ||_{L^2(I)} = |\\Omega|^{\\frac{1}{2}} \\left((f)_I - c \\right)^2  $$\n",
    "che è la parte legata all'errore di quadratura.\n",
    "\n",
    "Ci aspettiamo quindi che gli errori di approssimazione computazionale siano commensurabili a quelli teorici a patto che 2°T $ \\ll $ 1°T.\n",
    "\n",
    "Per fare ciò useremo una formula di quadratura di grado più alto delle costanti (in questo caso i trapezi) e divideremo ogni intervallino $I$ in sottointervallini per la quadratura.\n",
    "\n",
    "## L'algoritmo\n",
    "\n",
    "Chiamiamo $[f]_I$ il valore approssimato mediante quadratura dei trapezi di $(f)_I$.\n",
    "\n",
    "$\\forall I_k \\in \\mathcal{P}$ prendiamo $ \\left\\{ t_{k-1} = P_0 < P_1 \\ldots < P_n = t_k \\right\\} $ come nodi di quadratura e chiamiamo $h = \\frac{t_k - t_{k-1}}{n}$\n",
    "Allora $[f]_I$ sarà:\n",
    "$$ [f]_{I_k} = \\frac{h}{2} \\left[f(P_0) + f(P_n) + 2 \\sum_{i=1}^{n-1} f(P_i) \\right] $$\n",
    "Da cui\n",
    "$$ \\mathcal{A} : L^2(\\Omega) \\to S^0(\\Omega) $$\n",
    "$$ f \\mapsto \\sum_{I \\in \\mathcal{P}} [f]_I \\chi_{I} $$\n",
    "\n",
    "## Calcolo dell'errore\n",
    "\n",
    "Per determinare gli errori in norma $L^2$, necessiteremo nuovamente di una formula di quadratura.\n",
    "Per avere dei risultati attendibili, vogliamo che l'errore di quadratura di $ || f - \\mathcal{A}(f) ||_{L^2} $ sia molto più piccolo del valore effettivo.\n",
    "Per questo motivo usiamo nuovamente i trapezi.\n",
    "Questa volta per la quadratura non è strettamente necessario lavorare con gli intervalli della partizione, tuttavia notiamo che $ \\left( f - \\mathcal{A}(f) \\right)^2 $ ha potenzialmente problemi di regolarità agli estremi degli intervallini (dove la costante approssimante cambia valore). Per questo motivo può risultare conveniente mettere degli estremi di quadratura li.\n",
    "Procediamo quindi anche in questo caso a calcolare gli errori di approssimazione intervallo per intervallo, sfruttando la linearità dell'integrale."
   ]
  },
  {
   "cell_type": "code",
   "execution_count": 1,
   "metadata": {},
   "outputs": [
    {
     "data": {
      "application/javascript": [
       "IPython.OutputArea.prototype._should_scroll = function(lines) {\n",
       "    return false;\n",
       "}"
      ],
      "text/plain": [
       "<IPython.core.display.Javascript object>"
      ]
     },
     "metadata": {},
     "output_type": "display_data"
    }
   ],
   "source": [
    "%%javascript\n",
    "IPython.OutputArea.prototype._should_scroll = function(lines) {\n",
    "    return false;\n",
    "}"
   ]
  },
  {
   "cell_type": "code",
   "execution_count": 2,
   "metadata": {},
   "outputs": [],
   "source": [
    "from __future__ import print_function\n",
    "from ipywidgets import interact, interactive, fixed, interact_manual, IntSlider, FloatSlider\n",
    "import ipywidgets as widgets\n",
    "\n",
    "import numpy as np\n",
    "import matplotlib.pyplot as plt\n",
    "import math\n",
    "import pandas as M5S # nothing political here"
   ]
  },
  {
   "cell_type": "code",
   "execution_count": 3,
   "metadata": {},
   "outputs": [],
   "source": [
    "from Partition import Partition\n",
    "from Approximation import MidpointApproximation, LinearContApproximation, L2ConstantApproximation\n",
    "from ErrorMetrics import ErrorManager, MaxNorm, L2Norm, L2TrapNorm\n",
    "from Tools import TestEOC"
   ]
  },
  {
   "cell_type": "code",
   "execution_count": 4,
   "metadata": {},
   "outputs": [],
   "source": [
    "def _testInteractive(funct, a, b, n):\n",
    "    interp = L2ConstantApproximation(Partition.Uniform(a,b,n), funct)\n",
    "    interp.plot()\n",
    "    \n",
    "def interactive(fun):\n",
    "    nSlid = IntSlider(min=1, max=30, step=1, continuous_update=False)\n",
    "    betaSlid = FloatSlider(min=0.0, max=1.0, step=0.05, continuous_update=False)\n",
    "    \n",
    "    interact(_testInteractive, funct=fixed(fun), a=(-10.0,10.0, 0.5), b=(0.0,10.0, 0.5), n=nSlid, beta=betaSlid)"
   ]
  },
  {
   "cell_type": "markdown",
   "metadata": {},
   "source": [
    "# Variazione dei parametri\n",
    "Prendiamo come funzione $ f(x) = x^2 $ e confrontiamo la target function e l'approssimante al variare dei parametri"
   ]
  },
  {
   "cell_type": "code",
   "execution_count": 5,
   "metadata": {},
   "outputs": [],
   "source": [
    "f = lambda x : x*x"
   ]
  },
  {
   "cell_type": "code",
   "execution_count": 6,
   "metadata": {
    "scrolled": true
   },
   "outputs": [
    {
     "data": {
      "application/vnd.jupyter.widget-view+json": {
       "model_id": "4a443c0806414e9d860b3ee60f89094e",
       "version_major": 2,
       "version_minor": 0
      },
      "text/plain": [
       "interactive(children=(FloatSlider(value=0.0, description='a', max=10.0, min=-10.0, step=0.5), FloatSlider(valu…"
      ]
     },
     "metadata": {},
     "output_type": "display_data"
    }
   ],
   "source": [
    "interactive(f)"
   ]
  },
  {
   "cell_type": "markdown",
   "metadata": {},
   "source": [
    "# EOC\n",
    "Plottiamo l'errore in norma infinito vs il numero di elementi nella partizione che è proporzionale a $ \\frac{1}{h} $\n",
    "Definiamo come $EOC_n = \\log_2 \\left( \\frac{e_{n/2}}{e_n} \\right)$ e studiamo l'ordine di convergenza delle funzioni $f_{\\rho}(x) = x^{\\rho}$ con $x \\in [0,1]$, $\\rho \\in [0,2]$. Con la convenzione che per $\\rho=0$, $f(x) = -\\left(\\log(\\frac{x}{e})\\right)^{-1}$.\n",
    "\n",
    "Ricordiamo che i risultati teorici ci dicono che la velocità di convergenza è dello stesso ordine del modulo di smoothness $\\omega_1$"
   ]
  },
  {
   "cell_type": "code",
   "execution_count": 7,
   "metadata": {
    "scrolled": true
   },
   "outputs": [
    {
     "data": {
      "application/vnd.jupyter.widget-view+json": {
       "model_id": "e47250c86a9e4ef69a993e40a5b98a0d",
       "version_major": 2,
       "version_minor": 0
      },
      "text/plain": [
       "interactive(children=(FloatSlider(value=1.25, description='p', max=2.5, step=0.05), FloatSlider(value=0.0, des…"
      ]
     },
     "metadata": {},
     "output_type": "display_data"
    }
   ],
   "source": [
    "clss = [\"L2\", \"Linear\", \"Midpoint\"]\n",
    "interact(TestEOC, p=(0.0, 2.5, 0.05), n_start=fixed(1), runs=fixed(7), a=(-0.1, 0.1, 0.02), b=fixed(1), appr=clss);"
   ]
  },
  {
   "cell_type": "markdown",
   "metadata": {},
   "source": [
    "L' EOC massimo resta 1, che viene assunto quando $\\rho \\geq 1$. Anche qui il comportamento asintotico si presenta più tardi al crescere di $\\rho$.\n",
    "Tuttavia l'EOC è più alto per $\\rho < 1$ e non sembra limitato dal valore dello spazio di Holder a cui appartiene la funzione.\n",
    "Anche per $\\rho = 0$ l' EOC è più alto, anche se resta decrescente in N."
   ]
  },
  {
   "cell_type": "code",
   "execution_count": null,
   "metadata": {},
   "outputs": [],
   "source": []
  }
 ],
 "metadata": {
  "kernelspec": {
   "display_name": "Python 3",
   "language": "python",
   "name": "python3"
  },
  "language_info": {
   "codemirror_mode": {
    "name": "ipython",
    "version": 3
   },
   "file_extension": ".py",
   "mimetype": "text/x-python",
   "name": "python",
   "nbconvert_exporter": "python",
   "pygments_lexer": "ipython3",
   "version": "3.6.5"
  }
 },
 "nbformat": 4,
 "nbformat_minor": 2
}
